{
 "cells": [
  {
   "cell_type": "code",
   "execution_count": 1,
   "id": "0910244a-600b-4baf-aa9e-43c44adfcaa1",
   "metadata": {
    "scrolled": true
   },
   "outputs": [
    {
     "name": "stderr",
     "output_type": "stream",
     "text": [
      "2024-12-02 13:59:43.093532: I tensorflow/core/platform/cpu_feature_guard.cc:193] This TensorFlow binary is optimized with oneAPI Deep Neural Network Library (oneDNN) to use the following CPU instructions in performance-critical operations:  SSE4.1 SSE4.2\n",
      "To enable them in other operations, rebuild TensorFlow with the appropriate compiler flags.\n"
     ]
    }
   ],
   "source": [
    "import tensorflow as tf\n",
    "from tensorflow.keras.models import Sequential\n",
    "from tensorflow.keras.layers import Dense\n",
    "from tensorflow.keras.optimizers import Adam\n",
    "from sklearn.model_selection import StratifiedKFold, GridSearchCV\n",
    "from sklearn.metrics import precision_score, recall_score, f1_score, average_precision_score\n",
    "from scikeras.wrappers import KerasClassifier\n",
    "import numpy as np\n",
    "import pandas as pd\n",
    "from sklearn.ensemble import RandomForestClassifier\n",
    "from sklearn.tree import DecisionTreeClassifier\n",
    "from sklearn.feature_selection import RFECV\n",
    "from sklearn.metrics import confusion_matrix, ConfusionMatrixDisplay\n",
    "import matplotlib.pyplot as plt\n",
    "import shap\n",
    "from sklearn.inspection import permutation_importance\n"
   ]
  },
  {
   "cell_type": "code",
   "execution_count": 2,
   "id": "8448f61f-d77e-4366-8d97-7d0354280576",
   "metadata": {},
   "outputs": [
    {
     "name": "stdout",
     "output_type": "stream",
     "text": [
      "TensorFlow version: 2.10.0\n",
      "Scikeras version: 0.12.0\n"
     ]
    }
   ],
   "source": [
    "# Check TensorFlow and Keras versions\n",
    "import tensorflow as tf\n",
    "print(f\"TensorFlow version: {tf.__version__}\")\n",
    "\n",
    "# Check Scikeras version\n",
    "import scikeras\n",
    "print(f\"Scikeras version: {scikeras.__version__}\")\n"
   ]
  },
  {
   "cell_type": "code",
   "execution_count": null,
   "id": "02916e21-2ef9-4433-855d-4160d6e3ad15",
   "metadata": {},
   "outputs": [],
   "source": []
  },
  {
   "cell_type": "code",
   "execution_count": 3,
   "id": "ea0077be-da9e-4463-8ec2-53f3a87ad2f7",
   "metadata": {},
   "outputs": [],
   "source": [
    "# Load datasets (pickle format)\n",
    "Xpres_train = pd.read_pickle('preprocessed/Xpres_train.pkl')\n",
    "Xpres_test = pd.read_pickle('preprocessed/Xpres_test.pkl')\n",
    "ypres_train = pd.read_pickle('preprocessed/ypres_train.pkl')\n",
    "ypres_test = pd.read_pickle('preprocessed/ypres_test.pkl')\n",
    "\n",
    "Xinten_train = pd.read_pickle('preprocessed/Xinten_train.pkl')\n",
    "Xinten_test = pd.read_pickle('preprocessed/Xinten_test.pkl')\n",
    "yinten_train = pd.read_pickle('preprocessed/yinten_train.pkl')\n",
    "yinten_test = pd.read_pickle('preprocessed/yinten_test.pkl')"
   ]
  },
  {
   "cell_type": "code",
   "execution_count": 4,
   "id": "08134a64-cdbc-4673-8904-5477e1828efe",
   "metadata": {},
   "outputs": [],
   "source": [
    "# splits variables\n",
    "outer_split = 5\n",
    "inner_split = 5\n",
    "\n",
    "param_grid = {\n",
    "    'epochs': [20, 50, 100, 150, 200], \n",
    "    'batch_size': [16, 32, 64, 128]}\n"
   ]
  },
  {
   "cell_type": "markdown",
   "id": "97f347f6-c76c-4f80-81c6-8a1b5354d42d",
   "metadata": {},
   "source": [
    "## Artificial neural network dfpres"
   ]
  },
  {
   "cell_type": "code",
   "execution_count": 6,
   "id": "223ccb29-5804-42df-9f19-b200c819f7c7",
   "metadata": {},
   "outputs": [
    {
     "name": "stdout",
     "output_type": "stream",
     "text": [
      "\n",
      "Total number of final selected features: 25\n",
      "Selected Features: Index(['AU01_c_proportion', 'AU02_c_proportion', 'AU04_c_proportion',\n",
      "       'AU05_c_proportion', 'AU06_c_proportion', 'AU07_c_proportion',\n",
      "       'AU09_c_proportion', 'AU10_c_proportion', 'AU12_c_proportion',\n",
      "       'AU14_c_proportion', 'AU15_c_proportion', 'AU17_c_proportion',\n",
      "       'AU20_c_proportion', 'AU23_c_proportion', 'AU25_c_proportion',\n",
      "       'AU26_c_proportion', 'AU45_c_proportion', 'AU01_c_proportion_pattern',\n",
      "       'AU02_c_proportion_pattern', 'AU05_c_proportion_pattern',\n",
      "       'AU09_c_proportion_pattern', 'AU17_c_proportion_pattern',\n",
      "       'AU25_c_proportion_pattern', 'AU45_c_proportion_pattern',\n",
      "       'pattern_proportion'],\n",
      "      dtype='object')\n"
     ]
    }
   ],
   "source": [
    "# Random Forest-based RFECV\n",
    "rf_model = RandomForestClassifier(random_state=42)\n",
    "\n",
    "# Perform RFECV with a Random Forest\n",
    "rfecv = RFECV(estimator=rf_model, step=1, cv=StratifiedKFold(n_splits=inner_split), scoring='f1', n_jobs=-1)\n",
    "rfecv.fit(Xpres_train, ypres_train)\n",
    "\n",
    "# Select important features\n",
    "selected_features = Xpres_train.columns[rfecv.support_]\n",
    "Xpres_train_selected = Xpres_train[selected_features]\n",
    "Xpres_test_selected = Xpres_test[selected_features]\n",
    "\n",
    "print('\\nTotal number of final selected features:', len(selected_features))\n",
    "print(\"Selected Features:\", selected_features)"
   ]
  },
  {
   "cell_type": "code",
   "execution_count": 7,
   "id": "67245386-49b5-4208-bcf2-4ffebcb5b2e1",
   "metadata": {},
   "outputs": [
    {
     "name": "stderr",
     "output_type": "stream",
     "text": [
      "2024-12-02 13:59:56.833564: I tensorflow/core/platform/cpu_feature_guard.cc:193] This TensorFlow binary is optimized with oneAPI Deep Neural Network Library (oneDNN) to use the following CPU instructions in performance-critical operations:  SSE4.1 SSE4.2\n",
      "To enable them in other operations, rebuild TensorFlow with the appropriate compiler flags.\n",
      "2024-12-02 13:59:56.843605: I tensorflow/core/platform/cpu_feature_guard.cc:193] This TensorFlow binary is optimized with oneAPI Deep Neural Network Library (oneDNN) to use the following CPU instructions in performance-critical operations:  SSE4.1 SSE4.2\n",
      "To enable them in other operations, rebuild TensorFlow with the appropriate compiler flags.\n",
      "2024-12-02 13:59:56.847588: I tensorflow/core/platform/cpu_feature_guard.cc:193] This TensorFlow binary is optimized with oneAPI Deep Neural Network Library (oneDNN) to use the following CPU instructions in performance-critical operations:  SSE4.1 SSE4.2\n",
      "To enable them in other operations, rebuild TensorFlow with the appropriate compiler flags.\n",
      "2024-12-02 13:59:56.849783: I tensorflow/core/platform/cpu_feature_guard.cc:193] This TensorFlow binary is optimized with oneAPI Deep Neural Network Library (oneDNN) to use the following CPU instructions in performance-critical operations:  SSE4.1 SSE4.2\n",
      "To enable them in other operations, rebuild TensorFlow with the appropriate compiler flags.\n",
      "2024-12-02 13:59:56.859645: I tensorflow/core/platform/cpu_feature_guard.cc:193] This TensorFlow binary is optimized with oneAPI Deep Neural Network Library (oneDNN) to use the following CPU instructions in performance-critical operations:  SSE4.1 SSE4.2\n",
      "To enable them in other operations, rebuild TensorFlow with the appropriate compiler flags.\n",
      "2024-12-02 13:59:57.524977: I tensorflow/core/platform/cpu_feature_guard.cc:193] This TensorFlow binary is optimized with oneAPI Deep Neural Network Library (oneDNN) to use the following CPU instructions in performance-critical operations:  SSE4.1 SSE4.2\n",
      "To enable them in other operations, rebuild TensorFlow with the appropriate compiler flags.\n",
      "2024-12-02 13:59:57.532833: I tensorflow/core/platform/cpu_feature_guard.cc:193] This TensorFlow binary is optimized with oneAPI Deep Neural Network Library (oneDNN) to use the following CPU instructions in performance-critical operations:  SSE4.1 SSE4.2\n",
      "To enable them in other operations, rebuild TensorFlow with the appropriate compiler flags.\n",
      "2024-12-02 13:59:57.652807: I tensorflow/core/platform/cpu_feature_guard.cc:193] This TensorFlow binary is optimized with oneAPI Deep Neural Network Library (oneDNN) to use the following CPU instructions in performance-critical operations:  SSE4.1 SSE4.2\n",
      "To enable them in other operations, rebuild TensorFlow with the appropriate compiler flags.\n",
      "2024-12-02 14:00:00.835715: I tensorflow/core/platform/cpu_feature_guard.cc:193] This TensorFlow binary is optimized with oneAPI Deep Neural Network Library (oneDNN) to use the following CPU instructions in performance-critical operations:  SSE4.1 SSE4.2\n",
      "To enable them in other operations, rebuild TensorFlow with the appropriate compiler flags.\n",
      "2024-12-02 14:00:00.852979: I tensorflow/core/platform/cpu_feature_guard.cc:193] This TensorFlow binary is optimized with oneAPI Deep Neural Network Library (oneDNN) to use the following CPU instructions in performance-critical operations:  SSE4.1 SSE4.2\n",
      "To enable them in other operations, rebuild TensorFlow with the appropriate compiler flags.\n",
      "2024-12-02 14:00:00.869976: I tensorflow/core/platform/cpu_feature_guard.cc:193] This TensorFlow binary is optimized with oneAPI Deep Neural Network Library (oneDNN) to use the following CPU instructions in performance-critical operations:  SSE4.1 SSE4.2\n",
      "To enable them in other operations, rebuild TensorFlow with the appropriate compiler flags.\n",
      "2024-12-02 14:00:00.977744: I tensorflow/core/platform/cpu_feature_guard.cc:193] This TensorFlow binary is optimized with oneAPI Deep Neural Network Library (oneDNN) to use the following CPU instructions in performance-critical operations:  SSE4.1 SSE4.2\n",
      "To enable them in other operations, rebuild TensorFlow with the appropriate compiler flags.\n",
      "2024-12-02 14:00:00.988772: I tensorflow/core/platform/cpu_feature_guard.cc:193] This TensorFlow binary is optimized with oneAPI Deep Neural Network Library (oneDNN) to use the following CPU instructions in performance-critical operations:  SSE4.1 SSE4.2\n",
      "To enable them in other operations, rebuild TensorFlow with the appropriate compiler flags.\n",
      "2024-12-02 14:00:01.754150: I tensorflow/core/platform/cpu_feature_guard.cc:193] This TensorFlow binary is optimized with oneAPI Deep Neural Network Library (oneDNN) to use the following CPU instructions in performance-critical operations:  SSE4.1 SSE4.2\n",
      "To enable them in other operations, rebuild TensorFlow with the appropriate compiler flags.\n",
      "2024-12-02 14:00:01.934755: I tensorflow/core/platform/cpu_feature_guard.cc:193] This TensorFlow binary is optimized with oneAPI Deep Neural Network Library (oneDNN) to use the following CPU instructions in performance-critical operations:  SSE4.1 SSE4.2\n",
      "To enable them in other operations, rebuild TensorFlow with the appropriate compiler flags.\n",
      "2024-12-02 14:00:01.972727: I tensorflow/core/platform/cpu_feature_guard.cc:193] This TensorFlow binary is optimized with oneAPI Deep Neural Network Library (oneDNN) to use the following CPU instructions in performance-critical operations:  SSE4.1 SSE4.2\n",
      "To enable them in other operations, rebuild TensorFlow with the appropriate compiler flags.\n",
      "WARNING:tensorflow:5 out of the last 15 calls to <function Model.make_predict_function.<locals>.predict_function at 0x7fd321a919d0> triggered tf.function retracing. Tracing is expensive and the excessive number of tracings could be due to (1) creating @tf.function repeatedly in a loop, (2) passing tensors with different shapes, (3) passing Python objects instead of tensors. For (1), please define your @tf.function outside of the loop. For (2), @tf.function has reduce_retracing=True option that can avoid unnecessary retracing. For (3), please refer to https://www.tensorflow.org/guide/function#controlling_retracing and https://www.tensorflow.org/api_docs/python/tf/function for  more details.\n",
      "WARNING:tensorflow:5 out of the last 13 calls to <function Model.make_predict_function.<locals>.predict_function at 0x7fd2e9dbbf70> triggered tf.function retracing. Tracing is expensive and the excessive number of tracings could be due to (1) creating @tf.function repeatedly in a loop, (2) passing tensors with different shapes, (3) passing Python objects instead of tensors. For (1), please define your @tf.function outside of the loop. For (2), @tf.function has reduce_retracing=True option that can avoid unnecessary retracing. For (3), please refer to https://www.tensorflow.org/guide/function#controlling_retracing and https://www.tensorflow.org/api_docs/python/tf/function for  more details.\n",
      "WARNING:tensorflow:5 out of the last 15 calls to <function Model.make_predict_function.<locals>.predict_function at 0x7f91819b3dc0> triggered tf.function retracing. Tracing is expensive and the excessive number of tracings could be due to (1) creating @tf.function repeatedly in a loop, (2) passing tensors with different shapes, (3) passing Python objects instead of tensors. For (1), please define your @tf.function outside of the loop. For (2), @tf.function has reduce_retracing=True option that can avoid unnecessary retracing. For (3), please refer to https://www.tensorflow.org/guide/function#controlling_retracing and https://www.tensorflow.org/api_docs/python/tf/function for  more details.\n",
      "WARNING:tensorflow:5 out of the last 15 calls to <function Model.make_predict_function.<locals>.predict_function at 0x7fd569b31c10> triggered tf.function retracing. Tracing is expensive and the excessive number of tracings could be due to (1) creating @tf.function repeatedly in a loop, (2) passing tensors with different shapes, (3) passing Python objects instead of tensors. For (1), please define your @tf.function outside of the loop. For (2), @tf.function has reduce_retracing=True option that can avoid unnecessary retracing. For (3), please refer to https://www.tensorflow.org/guide/function#controlling_retracing and https://www.tensorflow.org/api_docs/python/tf/function for  more details.\n",
      "WARNING:tensorflow:5 out of the last 13 calls to <function Model.make_predict_function.<locals>.predict_function at 0x7f91715e9ca0> triggered tf.function retracing. Tracing is expensive and the excessive number of tracings could be due to (1) creating @tf.function repeatedly in a loop, (2) passing tensors with different shapes, (3) passing Python objects instead of tensors. For (1), please define your @tf.function outside of the loop. For (2), @tf.function has reduce_retracing=True option that can avoid unnecessary retracing. For (3), please refer to https://www.tensorflow.org/guide/function#controlling_retracing and https://www.tensorflow.org/api_docs/python/tf/function for  more details.\n",
      "WARNING:tensorflow:5 out of the last 13 calls to <function Model.make_predict_function.<locals>.predict_function at 0x7fd569b31b80> triggered tf.function retracing. Tracing is expensive and the excessive number of tracings could be due to (1) creating @tf.function repeatedly in a loop, (2) passing tensors with different shapes, (3) passing Python objects instead of tensors. For (1), please define your @tf.function outside of the loop. For (2), @tf.function has reduce_retracing=True option that can avoid unnecessary retracing. For (3), please refer to https://www.tensorflow.org/guide/function#controlling_retracing and https://www.tensorflow.org/api_docs/python/tf/function for  more details.\n",
      "WARNING:tensorflow:5 out of the last 13 calls to <function Model.make_predict_function.<locals>.predict_function at 0x7fbb29a819d0> triggered tf.function retracing. Tracing is expensive and the excessive number of tracings could be due to (1) creating @tf.function repeatedly in a loop, (2) passing tensors with different shapes, (3) passing Python objects instead of tensors. For (1), please define your @tf.function outside of the loop. For (2), @tf.function has reduce_retracing=True option that can avoid unnecessary retracing. For (3), please refer to https://www.tensorflow.org/guide/function#controlling_retracing and https://www.tensorflow.org/api_docs/python/tf/function for  more details.\n",
      "WARNING:tensorflow:5 out of the last 15 calls to <function Model.make_predict_function.<locals>.predict_function at 0x7faa89baf820> triggered tf.function retracing. Tracing is expensive and the excessive number of tracings could be due to (1) creating @tf.function repeatedly in a loop, (2) passing tensors with different shapes, (3) passing Python objects instead of tensors. For (1), please define your @tf.function outside of the loop. For (2), @tf.function has reduce_retracing=True option that can avoid unnecessary retracing. For (3), please refer to https://www.tensorflow.org/guide/function#controlling_retracing and https://www.tensorflow.org/api_docs/python/tf/function for  more details.\n",
      "WARNING:tensorflow:5 out of the last 15 calls to <function Model.make_predict_function.<locals>.predict_function at 0x7faca20bf820> triggered tf.function retracing. Tracing is expensive and the excessive number of tracings could be due to (1) creating @tf.function repeatedly in a loop, (2) passing tensors with different shapes, (3) passing Python objects instead of tensors. For (1), please define your @tf.function outside of the loop. For (2), @tf.function has reduce_retracing=True option that can avoid unnecessary retracing. For (3), please refer to https://www.tensorflow.org/guide/function#controlling_retracing and https://www.tensorflow.org/api_docs/python/tf/function for  more details.\n",
      "WARNING:tensorflow:6 out of the last 15 calls to <function Model.make_predict_function.<locals>.predict_function at 0x7fbb29bc8790> triggered tf.function retracing. Tracing is expensive and the excessive number of tracings could be due to (1) creating @tf.function repeatedly in a loop, (2) passing tensors with different shapes, (3) passing Python objects instead of tensors. For (1), please define your @tf.function outside of the loop. For (2), @tf.function has reduce_retracing=True option that can avoid unnecessary retracing. For (3), please refer to https://www.tensorflow.org/guide/function#controlling_retracing and https://www.tensorflow.org/api_docs/python/tf/function for  more details.\n",
      "WARNING:tensorflow:5 out of the last 12 calls to <function Model.make_predict_function.<locals>.predict_function at 0x7faa89c0ae50> triggered tf.function retracing. Tracing is expensive and the excessive number of tracings could be due to (1) creating @tf.function repeatedly in a loop, (2) passing tensors with different shapes, (3) passing Python objects instead of tensors. For (1), please define your @tf.function outside of the loop. For (2), @tf.function has reduce_retracing=True option that can avoid unnecessary retracing. For (3), please refer to https://www.tensorflow.org/guide/function#controlling_retracing and https://www.tensorflow.org/api_docs/python/tf/function for  more details.\n",
      "WARNING:tensorflow:5 out of the last 12 calls to <function Model.make_predict_function.<locals>.predict_function at 0x7faca2119e50> triggered tf.function retracing. Tracing is expensive and the excessive number of tracings could be due to (1) creating @tf.function repeatedly in a loop, (2) passing tensors with different shapes, (3) passing Python objects instead of tensors. For (1), please define your @tf.function outside of the loop. For (2), @tf.function has reduce_retracing=True option that can avoid unnecessary retracing. For (3), please refer to https://www.tensorflow.org/guide/function#controlling_retracing and https://www.tensorflow.org/api_docs/python/tf/function for  more details.\n",
      "WARNING:tensorflow:5 out of the last 14 calls to <function Model.make_predict_function.<locals>.predict_function at 0x7f7d89638ee0> triggered tf.function retracing. Tracing is expensive and the excessive number of tracings could be due to (1) creating @tf.function repeatedly in a loop, (2) passing tensors with different shapes, (3) passing Python objects instead of tensors. For (1), please define your @tf.function outside of the loop. For (2), @tf.function has reduce_retracing=True option that can avoid unnecessary retracing. For (3), please refer to https://www.tensorflow.org/guide/function#controlling_retracing and https://www.tensorflow.org/api_docs/python/tf/function for  more details.\n",
      "WARNING:tensorflow:6 out of the last 15 calls to <function Model.make_predict_function.<locals>.predict_function at 0x7f7d5876d790> triggered tf.function retracing. Tracing is expensive and the excessive number of tracings could be due to (1) creating @tf.function repeatedly in a loop, (2) passing tensors with different shapes, (3) passing Python objects instead of tensors. For (1), please define your @tf.function outside of the loop. For (2), @tf.function has reduce_retracing=True option that can avoid unnecessary retracing. For (3), please refer to https://www.tensorflow.org/guide/function#controlling_retracing and https://www.tensorflow.org/api_docs/python/tf/function for  more details.\n",
      "WARNING:tensorflow:5 out of the last 14 calls to <function Model.make_predict_function.<locals>.predict_function at 0x7f78305dcdc0> triggered tf.function retracing. Tracing is expensive and the excessive number of tracings could be due to (1) creating @tf.function repeatedly in a loop, (2) passing tensors with different shapes, (3) passing Python objects instead of tensors. For (1), please define your @tf.function outside of the loop. For (2), @tf.function has reduce_retracing=True option that can avoid unnecessary retracing. For (3), please refer to https://www.tensorflow.org/guide/function#controlling_retracing and https://www.tensorflow.org/api_docs/python/tf/function for  more details.\n",
      "WARNING:tensorflow:5 out of the last 11 calls to <function Model.make_predict_function.<locals>.predict_function at 0x7f7869631e50> triggered tf.function retracing. Tracing is expensive and the excessive number of tracings could be due to (1) creating @tf.function repeatedly in a loop, (2) passing tensors with different shapes, (3) passing Python objects instead of tensors. For (1), please define your @tf.function outside of the loop. For (2), @tf.function has reduce_retracing=True option that can avoid unnecessary retracing. For (3), please refer to https://www.tensorflow.org/guide/function#controlling_retracing and https://www.tensorflow.org/api_docs/python/tf/function for  more details.\n",
      "2024-12-02 14:00:36.786650: I tensorflow/core/platform/cpu_feature_guard.cc:193] This TensorFlow binary is optimized with oneAPI Deep Neural Network Library (oneDNN) to use the following CPU instructions in performance-critical operations:  SSE4.1 SSE4.2\n",
      "To enable them in other operations, rebuild TensorFlow with the appropriate compiler flags.\n"
     ]
    },
    {
     "name": "stdout",
     "output_type": "stream",
     "text": [
      "Best Parameters: {'batch_size': 32, 'epochs': 150}\n",
      "Best Cross-Validation Score: 0.7824242424242425\n",
      "Test Accuracy: 0.5645161271095276\n"
     ]
    }
   ],
   "source": [
    "from sklearn.metrics import precision_score, recall_score, f1_score, average_precision_score\n",
    "\n",
    "# Define ANN architecture\n",
    "def create_ann(input_dim):\n",
    "    model = Sequential()\n",
    "    model.add(Dense(32, input_dim=input_dim, activation='relu'))\n",
    "    model.add(Dense(16, activation='relu'))\n",
    "    model.add(Dense(1, activation='sigmoid'))\n",
    "    model.compile(optimizer=Adam(), loss='binary_crossentropy', metrics=['accuracy'])\n",
    "    return model\n",
    "\n",
    "# Ensure data is prepared before grid search\n",
    "X_train_selected_pres = Xpres_train[selected_features].to_numpy()\n",
    "X_test_selected_pres = Xpres_test[selected_features].to_numpy()\n",
    "\n",
    "# Wrap the model using KerasClassifier\n",
    "ann_model = KerasClassifier(model=create_ann, input_dim=X_train_selected_pres.shape[1], verbose=0)\n",
    "\n",
    "# Perform GridSearchCV\n",
    "grid_search = GridSearchCV(estimator=ann_model, param_grid=param_grid, cv=inner_split, scoring='accuracy', n_jobs=-1)\n",
    "grid_result = grid_search.fit(X_train_selected_pres, ypres_train)\n",
    "\n",
    "# Retrieve the best model and parameters\n",
    "print(f\"Best Parameters: {grid_result.best_params_}\")\n",
    "print(f\"Best Cross-Validation Score: {grid_result.best_score_}\")\n",
    "\n",
    "# Use the best model to predict\n",
    "best_ann_model = grid_result.best_estimator_\n",
    "ypres_pred_train = (best_ann_model.predict(X_train_selected_pres) > 0.5).astype(int)\n",
    "ypres_pred_train_proba = best_ann_model.predict_proba(X_train_selected_pres)[:, 1]\n",
    "ypres_pred_test = (best_ann_model.predict(X_test_selected_pres) > 0.5).astype(int)\n",
    "ypres_pred_test_proba = best_ann_model.predict_proba(X_test_selected_pres)[:, 1]\n",
    "\n",
    "# Metrics for Training Data\n",
    "trainprecision_annpres = precision_score(ypres_train, ypres_pred_train)\n",
    "trainrecall_annpres = recall_score(ypres_train, ypres_pred_train)\n",
    "trainf1_annpres = f1_score(ypres_train, ypres_pred_train)\n",
    "trainaucpr_annpres = average_precision_score(ypres_train, ypres_pred_train_proba)\n",
    "\n",
    "# Metrics for Testing Data\n",
    "testprecision_annpres = precision_score(ypres_test, ypres_pred_test)\n",
    "testrecall_annpres = recall_score(ypres_test, ypres_pred_test)\n",
    "testf1_annpres = f1_score(ypres_test, ypres_pred_test)\n",
    "testaucpr_annpres = average_precision_score(ypres_test, ypres_pred_test_proba)\n",
    "\n",
    "# Evaluate the best model on the test data\n",
    "test_loss, test_accuracy = best_ann_model.model_.evaluate(X_test_selected_pres, ypres_test, verbose=0)\n",
    "print(f\"Test Accuracy: {test_accuracy}\")"
   ]
  },
  {
   "cell_type": "markdown",
   "id": "2332f86b-750a-4a9d-a693-25c7fea6e198",
   "metadata": {},
   "source": [
    "## Artificial neural network dfinten"
   ]
  },
  {
   "cell_type": "code",
   "execution_count": 9,
   "id": "e3f07145-50bb-4f17-a4b9-5936cbc74cf2",
   "metadata": {},
   "outputs": [
    {
     "name": "stdout",
     "output_type": "stream",
     "text": [
      "\n",
      "Total number of final selected features: 182\n",
      "Selected Features: Index(['AU01_r__sum_values', 'AU01_r__variance', 'AU01_r__standard_deviation',\n",
      "       'AU01_r__maximum', 'AU01_r__mean', 'AU01_r__root_mean_square',\n",
      "       'AU02_r__sum_values', 'AU02_r__variance', 'AU02_r__standard_deviation',\n",
      "       'AU02_r__maximum',\n",
      "       ...\n",
      "       'AU26_r__maximum_pattern', 'AU26_r__mean_pattern',\n",
      "       'AU26_r__root_mean_square_pattern', 'AU45_r__sum_values_pattern',\n",
      "       'AU45_r__variance_pattern', 'AU45_r__standard_deviation_pattern',\n",
      "       'AU45_r__maximum_pattern', 'AU45_r__mean_pattern',\n",
      "       'AU45_r__root_mean_square_pattern', 'pattern_proportion'],\n",
      "      dtype='object', length=182)\n"
     ]
    }
   ],
   "source": [
    "# Random Forest-based RFECV\n",
    "rf_model = RandomForestClassifier(random_state=42)\n",
    "\n",
    "# Perform RFECV with a Random Forest\n",
    "rfecv = RFECV(estimator=rf_model, step=1, cv=StratifiedKFold(n_splits=inner_split), scoring='f1', n_jobs=-1)\n",
    "rfecv.fit(Xinten_train, yinten_train)\n",
    "\n",
    "# Select important features\n",
    "selected_features = Xinten_train.columns[rfecv.support_]\n",
    "Xinten_train_selected = Xinten_train[selected_features]\n",
    "Xinten_test_selected = Xinten_test[selected_features]\n",
    "\n",
    "print('\\nTotal number of final selected features:', len(selected_features))\n",
    "print(\"Selected Features:\", selected_features)"
   ]
  },
  {
   "cell_type": "code",
   "execution_count": 10,
   "id": "9f79bff8-4b9c-4629-91d6-e0a6c9f13cc7",
   "metadata": {},
   "outputs": [
    {
     "name": "stdout",
     "output_type": "stream",
     "text": [
      "Best Parameters: {'batch_size': 16, 'epochs': 200}\n",
      "Best Cross-Validation Score: 0.7763170163170164\n",
      "Test Accuracy: 0.6612903475761414\n"
     ]
    }
   ],
   "source": [
    "from sklearn.metrics import precision_score, recall_score, f1_score, average_precision_score\n",
    "\n",
    "# Define ANN architecture\n",
    "def create_ann(input_dim):\n",
    "    model = Sequential()\n",
    "    model.add(Dense(32, input_dim=input_dim, activation='relu'))\n",
    "    model.add(Dense(16, activation='relu'))\n",
    "    model.add(Dense(1, activation='sigmoid'))\n",
    "    model.compile(optimizer=Adam(), loss='binary_crossentropy', metrics=['accuracy'])\n",
    "    return model\n",
    "\n",
    "# Ensure data is prepared before grid search\n",
    "X_train_selected_inten = Xinten_train[selected_features].to_numpy()\n",
    "X_test_selected_inten = Xinten_test[selected_features].to_numpy()\n",
    "\n",
    "# Wrap the model using KerasClassifier\n",
    "ann_model = KerasClassifier(model=create_ann, input_dim=X_train_selected_inten.shape[1], verbose=0)\n",
    "\n",
    "# Perform GridSearchCV\n",
    "grid_search = GridSearchCV(estimator=ann_model, param_grid=param_grid, cv=inner_split, scoring='accuracy', n_jobs=-1)\n",
    "grid_result = grid_search.fit(X_train_selected_inten, yinten_train)\n",
    "\n",
    "# Retrieve the best model and parameters\n",
    "print(f\"Best Parameters: {grid_result.best_params_}\")\n",
    "print(f\"Best Cross-Validation Score: {grid_result.best_score_}\")\n",
    "\n",
    "# Use the best model to predict\n",
    "best_ann_model = grid_result.best_estimator_\n",
    "yinten_pred_train = (best_ann_model.predict(X_train_selected_inten) > 0.5).astype(int)\n",
    "yinten_pred_train_proba = best_ann_model.predict_proba(X_train_selected_inten)[:, 1]\n",
    "yinten_pred_test = (best_ann_model.predict(X_test_selected_inten) > 0.5).astype(int)\n",
    "yinten_pred_test_proba = best_ann_model.predict_proba(X_test_selected_inten)[:, 1]\n",
    "\n",
    "# Metrics for Training Data\n",
    "trainprecision_anninten = precision_score(yinten_train, yinten_pred_train)\n",
    "trainrecall_anninten = recall_score(yinten_train, yinten_pred_train)\n",
    "trainf1_anninten = f1_score(yinten_train, yinten_pred_train)\n",
    "trainaucpr_anninten = average_precision_score(yinten_train, yinten_pred_train_proba)\n",
    "\n",
    "# Metrics for Testing Data\n",
    "testprecision_anninten = precision_score(yinten_test, yinten_pred_test)\n",
    "testrecall_anninten = recall_score(yinten_test, yinten_pred_test)\n",
    "testf1_anninten = f1_score(yinten_test, yinten_pred_test)\n",
    "testaucpr_anninten = average_precision_score(yinten_test, yinten_pred_test_proba)\n",
    "\n",
    "# Evaluate the best model on the test data\n",
    "test_loss, test_accuracy = best_ann_model.model_.evaluate(X_test_selected_inten, yinten_test, verbose=0)\n",
    "print(f\"Test Accuracy: {test_accuracy}\")\n"
   ]
  },
  {
   "cell_type": "markdown",
   "id": "1f92421b-69f8-492e-9bab-20f517f24fc6",
   "metadata": {},
   "source": [
    "## Summary "
   ]
  },
  {
   "cell_type": "code",
   "execution_count": 12,
   "id": "09ee4691-7ce0-40cc-b4fa-f8399f2827ab",
   "metadata": {},
   "outputs": [
    {
     "name": "stdout",
     "output_type": "stream",
     "text": [
      "\n",
      "Training Set Metrics:\n",
      "               Precision   Recall        F1    AUC-PR\n",
      "ANN (dfpres)    0.964072  0.98773  0.975758  0.996107\n",
      "ANN (dfinten)   1.000000  1.00000  1.000000  1.000000\n",
      "\n",
      "Test Set Metrics:\n",
      "               Precision  Recall        F1    AUC-PR\n",
      "ANN (dfpres)    0.370370    0.50  0.425532  0.441113\n",
      "ANN (dfinten)   0.478261    0.55  0.511628  0.522000\n"
     ]
    }
   ],
   "source": [
    "# Data for training metrics\n",
    "data_train = {\n",
    "    \"Precision\": [trainprecision_annpres, trainprecision_anninten],\n",
    "    \"Recall\": [trainrecall_annpres, trainrecall_anninten],\n",
    "    \"F1\": [trainf1_annpres, trainf1_anninten],\n",
    "    \"AUC-PR\": [trainaucpr_annpres, trainaucpr_anninten],\n",
    "}\n",
    "\n",
    "# Data for test metrics\n",
    "data_test = {\n",
    "    \"Precision\": [testprecision_annpres, testprecision_anninten],\n",
    "    \"Recall\": [testrecall_annpres, testrecall_anninten],\n",
    "    \"F1\": [testf1_annpres, testf1_anninten],\n",
    "    \"AUC-PR\": [testaucpr_annpres, testaucpr_anninten],\n",
    "}\n",
    "\n",
    "# Convert dictionaries to DataFrames\n",
    "metrics_train = pd.DataFrame(data_train, index=[\"ANN (dfpres)\", \"ANN (dfinten)\"])\n",
    "metrics_test = pd.DataFrame(data_test, index=[\"ANN (dfpres)\", \"ANN (dfinten)\"])\n",
    "\n",
    "# Display the results\n",
    "print(\"\\nTraining Set Metrics:\")\n",
    "print(metrics_train)\n",
    "\n",
    "print(\"\\nTest Set Metrics:\")\n",
    "print(metrics_test)\n"
   ]
  },
  {
   "cell_type": "code",
   "execution_count": 13,
   "id": "68622657-9e10-4640-a2c7-733726d96d13",
   "metadata": {},
   "outputs": [
    {
     "data": {
      "image/png": "[encoded data removed]",
      "text/plain": [
       "<Figure size 1200x500 with 4 Axes>"
      ]
     },
     "metadata": {},
     "output_type": "display_data"
    }
   ],
   "source": [
    "# Generate confusion matrices\n",
    "cm_pres = confusion_matrix(ypres_test, ypres_pred_test)\n",
    "cm_inten = confusion_matrix(yinten_test, yinten_pred_test)\n",
    "\n",
    "# Plot confusion matrices side by side\n",
    "fig, axes = plt.subplots(1, 2, figsize=(12, 5))\n",
    "\n",
    "# Confusion matrix for dfpres\n",
    "disp_pres = ConfusionMatrixDisplay(confusion_matrix=cm_pres, display_labels=['Low VVR', 'High VVR'])\n",
    "disp_pres.plot(ax=axes[0], cmap='Blues', values_format='d')\n",
    "axes[0].set_title('Confusion Matrix for dfpres')\n",
    "\n",
    "# Confusion matrix for dfinten\n",
    "disp_inten = ConfusionMatrixDisplay(confusion_matrix=cm_inten, display_labels=['Low VVR', 'High VVR'])\n",
    "disp_inten.plot(ax=axes[1], cmap='Blues', values_format='d')\n",
    "axes[1].set_title('Confusion Matrix for dfinten')\n",
    "\n",
    "# Adjust layout\n",
    "plt.tight_layout()\n",
    "plt.show()\n"
   ]
  }
 ],
 "metadata": {
  "kernelspec": {
   "display_name": "Python (tf_env)",
   "language": "python",
   "name": "tf_env"
  },
  "language_info": {
   "codemirror_mode": {
    "name": "ipython",
    "version": 3
   },
   "file_extension": ".py",
   "mimetype": "text/x-python",
   "name": "python",
   "nbconvert_exporter": "python",
   "pygments_lexer": "ipython3",
   "version": "3.8.18"
  }
 },
 "nbformat": 4,
 "nbformat_minor": 5
}
